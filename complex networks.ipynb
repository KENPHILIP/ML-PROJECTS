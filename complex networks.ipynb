{
 "cells": [
  {
   "cell_type": "code",
   "execution_count": 1,
   "id": "d7569f9a",
   "metadata": {},
   "outputs": [],
   "source": [
    "import networkx as nx\n",
    "import numpy as np\n",
    "import random"
   ]
  },
  {
   "cell_type": "code",
   "execution_count": 2,
   "id": "e3b48ace",
   "metadata": {},
   "outputs": [],
   "source": [
    "N = np.random.randint(100, 1001)  # randomly select a value for N between 100 and 1000\n",
    "p = np.random.uniform(0.1, 0.5)  # randomly select a value for p between 0.1 and 0.5"
   ]
  },
  {
   "cell_type": "code",
   "execution_count": 3,
   "id": "a9e61774",
   "metadata": {},
   "outputs": [],
   "source": [
    "# Create a regular ring lattice with N nodes and each node connected to its k nearest neighbors on each side\n",
    "k = int(np.round(N/10))\n",
    "random_state = np.random.randint(1, 1000)  # randomly select a value for random_state\n",
    "G = nx.watts_strogatz_graph(N, k, p, seed=42)"
   ]
  },
  {
   "cell_type": "code",
   "execution_count": 4,
   "id": "f3876cf7",
   "metadata": {},
   "outputs": [],
   "source": [
    "# Calculate the average path length and clustering coefficient of the network\n",
    "avg_path_length = nx.average_shortest_path_length(G)\n",
    "clustering_coefficient = nx.average_clustering(G)"
   ]
  },
  {
   "cell_type": "code",
   "execution_count": 9,
   "id": "25dfab39",
   "metadata": {},
   "outputs": [
    {
     "name": "stdout",
     "output_type": "stream",
     "text": [
      "N=891, p=0.22387300778983918, random_state=852\n",
      "Average path length: 1.9178829493436236\n",
      "Clustering coefficient: 0.3749929007528824\n"
     ]
    }
   ],
   "source": [
    "# Print the results\n",
    "print(f\"N={N}, p={p}, random_state={random_state}\")\n",
    "print(f\"Average path length: {avg_path_length}\")\n",
    "print(f\"Clustering coefficient: {clustering_coefficient}\")"
   ]
  },
  {
   "cell_type": "code",
   "execution_count": 11,
   "id": "bb6ec8cd",
   "metadata": {},
   "outputs": [],
   "source": [
    "# Write the network to a text file\n",
    "nx.write_edgelist(G, f\"watts_strogatz_N{N}_p{p}_r{random_state}.txt\")"
   ]
  },
  {
   "cell_type": "code",
   "execution_count": null,
   "id": "0664cc7f",
   "metadata": {},
   "outputs": [],
   "source": []
  }
 ],
 "metadata": {
  "kernelspec": {
   "display_name": "Python 3 (ipykernel)",
   "language": "python",
   "name": "python3"
  },
  "language_info": {
   "codemirror_mode": {
    "name": "ipython",
    "version": 3
   },
   "file_extension": ".py",
   "mimetype": "text/x-python",
   "name": "python",
   "nbconvert_exporter": "python",
   "pygments_lexer": "ipython3",
   "version": "3.9.12"
  }
 },
 "nbformat": 4,
 "nbformat_minor": 5
}
